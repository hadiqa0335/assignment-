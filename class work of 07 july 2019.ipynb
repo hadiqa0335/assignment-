{
 "cells": [
  {
   "cell_type": "code",
   "execution_count": null,
   "metadata": {},
   "outputs": [],
   "source": [
    "your_city = input(\"Enter your city:\")\n",
    "cities = [\"Karachi\" , \"Lahore\" , \"Islamabad\" , \"Faisalabad\" , \"Multan\"]\n",
    "for a in cities:\n",
    "    if your_city == cities:\n",
    "        print(\"Its one of the most important cities of Pakistan\")\n",
    "    else:\n",
    "        print(\"It is one of the smallest cities.\")"
   ]
  },
  {
   "cell_type": "markdown",
   "metadata": {},
   "source": [
    "# Key word Arguments"
   ]
  },
  {
   "cell_type": "code",
   "execution_count": null,
   "metadata": {},
   "outputs": [],
   "source": [
    "def car(model , year):\n",
    "    print(model , year)"
   ]
  },
  {
   "cell_type": "code",
   "execution_count": null,
   "metadata": {},
   "outputs": [],
   "source": [
    "car(\"corolla\" , 2019)"
   ]
  },
  {
   "cell_type": "code",
   "execution_count": null,
   "metadata": {},
   "outputs": [],
   "source": [
    "car(year = 2019 , model = \"toyota\")"
   ]
  },
  {
   "cell_type": "code",
   "execution_count": null,
   "metadata": {},
   "outputs": [],
   "source": [
    "def name (f_name , l_name):\n",
    "    print(f\"first name : {f_name}\")\n",
    "    print(f\"last name : {l_name}\")"
   ]
  },
  {
   "cell_type": "code",
   "execution_count": null,
   "metadata": {},
   "outputs": [],
   "source": [
    "name(\"hussain\" , \"ali\")"
   ]
  },
  {
   "cell_type": "code",
   "execution_count": null,
   "metadata": {},
   "outputs": [],
   "source": [
    "name (l_name = \"ali\" , f_name = \"hussain\")"
   ]
  },
  {
   "cell_type": "code",
   "execution_count": null,
   "metadata": {},
   "outputs": [],
   "source": [
    "def name (f_name , m_name , l_name):\n",
    "    print(f\"first name : {f_name}\")\n",
    "    print(f\"middle name : {m_name}\")\n",
    "    print(f\"last name : {l_name}\")      "
   ]
  },
  {
   "cell_type": "code",
   "execution_count": null,
   "metadata": {},
   "outputs": [],
   "source": [
    "name(\"john\" , \"K\" , \"williams\")"
   ]
  },
  {
   "cell_type": "markdown",
   "metadata": {},
   "source": [
    "# Arbittary Number of Arguments"
   ]
  },
  {
   "cell_type": "code",
   "execution_count": null,
   "metadata": {},
   "outputs": [],
   "source": [
    "def pizza (size , flavour , *toppings):\n",
    "    print(size , flavour)\n",
    "    print(toppings)\n"
   ]
  },
  {
   "cell_type": "code",
   "execution_count": null,
   "metadata": {},
   "outputs": [],
   "source": [
    "pizza(\"large\" , \"chicken tikka\" , \"extra cheese\" , \"olives\")"
   ]
  },
  {
   "cell_type": "code",
   "execution_count": null,
   "metadata": {},
   "outputs": [],
   "source": [
    "pizza( \"small\", \"Bar BQ\" , \"jalapenoes\" , \"olives\" , \"extra cheese\") "
   ]
  },
  {
   "cell_type": "code",
   "execution_count": null,
   "metadata": {},
   "outputs": [],
   "source": [
    "def car(make , model , **specs):\n",
    "    print(make , model)\n",
    "    print(specs)"
   ]
  },
  {
   "cell_type": "code",
   "execution_count": null,
   "metadata": {},
   "outputs": [],
   "source": [
    "car(\"toyota\" , \"prius\" , transmission = \"automatic\")"
   ]
  },
  {
   "cell_type": "code",
   "execution_count": null,
   "metadata": {},
   "outputs": [],
   "source": [
    "car(\"toyota\" , \"prius\" , transmission = \"automatic\" , power = \"yes\")"
   ]
  },
  {
   "cell_type": "markdown",
   "metadata": {},
   "source": [
    "# Functions as Variables"
   ]
  },
  {
   "cell_type": "code",
   "execution_count": null,
   "metadata": {},
   "outputs": [],
   "source": [
    "def add(a,b):\n",
    "    c =a + b\n",
    "    return c"
   ]
  },
  {
   "cell_type": "code",
   "execution_count": null,
   "metadata": {},
   "outputs": [],
   "source": [
    "def sub(a,b):\n",
    "    c = a - b\n",
    "    return c"
   ]
  },
  {
   "cell_type": "code",
   "execution_count": null,
   "metadata": {},
   "outputs": [],
   "source": [
    "result = add(2,2) + sub(6,3)\n",
    "print(result)"
   ]
  },
  {
   "cell_type": "code",
   "execution_count": null,
   "metadata": {},
   "outputs": [],
   "source": [
    "result = add(10,13) + sub(4,3)\n",
    "print(result)"
   ]
  },
  {
   "cell_type": "code",
   "execution_count": null,
   "metadata": {},
   "outputs": [],
   "source": [
    "result = add(10, 9) * sub(8,6)\n",
    "print(result)"
   ]
  },
  {
   "cell_type": "code",
   "execution_count": null,
   "metadata": {},
   "outputs": [],
   "source": [
    "result = add('hadiqa','shaikh') \n",
    "result"
   ]
  },
  {
   "cell_type": "markdown",
   "metadata": {},
   "source": [
    "# While loop"
   ]
  },
  {
   "cell_type": "code",
   "execution_count": null,
   "metadata": {},
   "outputs": [],
   "source": [
    "for a in range(10):\n",
    "    print(a)"
   ]
  },
  {
   "cell_type": "code",
   "execution_count": null,
   "metadata": {},
   "outputs": [],
   "source": [
    "a = 0\n",
    "\n",
    "while a<10:\n",
    "    print(a)\n",
    "    a = a+1"
   ]
  },
  {
   "cell_type": "code",
   "execution_count": null,
   "metadata": {},
   "outputs": [],
   "source": [
    "topping = []\n",
    "for a in range(5):\n",
    "    toppings = input(\"Enter a topping:\")\n",
    "    topping.append(toppings)\n",
    "    \n",
    "print(topping)   "
   ]
  },
  {
   "cell_type": "code",
   "execution_count": null,
   "metadata": {},
   "outputs": [],
   "source": [
    "toppings = []\n",
    "flag = True\n",
    "\n",
    "while flag:\n",
    "    topping = input(\"Enter a topping:\")\n",
    "    \n",
    "    if topping == \"q\":\n",
    "        flag = False\n",
    "    else:\n",
    "        toppings.append(topping)\n",
    "        \n",
    "     \n",
    "print(toppings)    "
   ]
  },
  {
   "cell_type": "code",
   "execution_count": null,
   "metadata": {},
   "outputs": [],
   "source": [
    "available_flavours = [\"fajita\" , \"tikka\" , \"mexican\"]\n",
    "available_size = [\"large\", \"medium\",\"small\"]\n",
    "available_toppings = [\"olives\" , \"cheese\" , \"herbs\"]\n",
    "print(\"pizza order\")\n",
    "print()\n",
    "print()\n",
    "flag = True\n",
    "while flag:\n",
    "    print(\"available_size = [\"large\", \"medium\",\"small\"]\")\n",
    "    size = input(\"Enter your size:\")\n",
    "    if size not in available_size:\n",
    "        print(f\"{size} is not avilable.\")"
   ]
  },
  {
   "cell_type": "code",
   "execution_count": null,
   "metadata": {},
   "outputs": [],
   "source": []
  }
 ],
 "metadata": {
  "kernelspec": {
   "display_name": "Python 3",
   "language": "python",
   "name": "python3"
  },
  "language_info": {
   "codemirror_mode": {
    "name": "ipython",
    "version": 3
   },
   "file_extension": ".py",
   "mimetype": "text/x-python",
   "name": "python",
   "nbconvert_exporter": "python",
   "pygments_lexer": "ipython3",
   "version": "3.7.3"
  }
 },
 "nbformat": 4,
 "nbformat_minor": 2
}
